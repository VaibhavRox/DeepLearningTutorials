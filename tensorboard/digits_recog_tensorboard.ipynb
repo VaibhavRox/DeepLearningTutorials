{
 "cells": [
  {
   "cell_type": "markdown",
   "id": "00facbb1",
   "metadata": {},
   "source": [
    "## Tensorboard demo using handwritten digits classification using NN"
   ]
  },
  {
   "cell_type": "code",
   "execution_count": 12,
   "id": "ccec2726",
   "metadata": {},
   "outputs": [],
   "source": [
    "import tensorflow as tf\n",
    "from tensorflow import keras\n",
    "import numpy as np\n",
    "import matplotlib.pyplot as plt\n",
    "%matplotlib inline"
   ]
  },
  {
   "cell_type": "code",
   "execution_count": 2,
   "id": "150487a0",
   "metadata": {},
   "outputs": [],
   "source": [
    "(X_train,y_train),(X_test,y_test)=keras.datasets.mnist.load_data()"
   ]
  },
  {
   "cell_type": "code",
   "execution_count": 3,
   "id": "6d03a2b3",
   "metadata": {},
   "outputs": [
    {
     "data": {
      "text/plain": [
       "(60000, 10000)"
      ]
     },
     "execution_count": 3,
     "metadata": {},
     "output_type": "execute_result"
    }
   ],
   "source": [
    "len(X_train),len(X_test)"
   ]
  },
  {
   "cell_type": "code",
   "execution_count": 4,
   "id": "41f319ed",
   "metadata": {},
   "outputs": [
    {
     "data": {
      "text/plain": [
       "(60000, 28, 28)"
      ]
     },
     "execution_count": 4,
     "metadata": {},
     "output_type": "execute_result"
    }
   ],
   "source": [
    "X_train.shape"
   ]
  },
  {
   "cell_type": "code",
   "execution_count": 5,
   "id": "e6ac549c",
   "metadata": {},
   "outputs": [
    {
     "data": {
      "text/plain": [
       "(28, 28)"
      ]
     },
     "execution_count": 5,
     "metadata": {},
     "output_type": "execute_result"
    }
   ],
   "source": [
    "X_train[0].shape\n"
   ]
  },
  {
   "cell_type": "code",
   "execution_count": 6,
   "id": "5bdfc2fb",
   "metadata": {},
   "outputs": [
    {
     "data": {
      "text/plain": [
       "<matplotlib.image.AxesImage at 0x25e62b15190>"
      ]
     },
     "execution_count": 6,
     "metadata": {},
     "output_type": "execute_result"
    },
    {
     "data": {
      "image/png": "[encoded data removed]",
      "text/plain": [
       "<Figure size 480x480 with 1 Axes>"
      ]
     },
     "metadata": {},
     "output_type": "display_data"
    }
   ],
   "source": [
    "plt.matshow(X_train[0],cmap='gray')"
   ]
  },
  {
   "cell_type": "code",
   "execution_count": 7,
   "id": "52a16509",
   "metadata": {},
   "outputs": [
    {
     "data": {
      "text/plain": [
       "np.uint8(5)"
      ]
     },
     "execution_count": 7,
     "metadata": {},
     "output_type": "execute_result"
    }
   ],
   "source": [
    "y_train[0]"
   ]
  },
  {
   "cell_type": "code",
   "execution_count": 8,
   "id": "a394ff7c",
   "metadata": {},
   "outputs": [],
   "source": [
    "X_train=X_train/255\n",
    "X_test=X_test/255"
   ]
  },
  {
   "cell_type": "code",
   "execution_count": 10,
   "id": "141631ad",
   "metadata": {},
   "outputs": [],
   "source": [
    "X_train_flattened=X_train.reshape(len(X_train),28*28)\n",
    "X_test_flattened=X_test.reshape(len(X_test),28*28)"
   ]
  },
  {
   "cell_type": "code",
   "execution_count": 11,
   "id": "96c2318e",
   "metadata": {},
   "outputs": [
    {
     "data": {
      "text/plain": [
       "(60000, 784)"
      ]
     },
     "execution_count": 11,
     "metadata": {},
     "output_type": "execute_result"
    }
   ],
   "source": [
    "X_train_flattened.shape"
   ]
  },
  {
   "cell_type": "code",
   "execution_count": 13,
   "id": "652bde2c",
   "metadata": {},
   "outputs": [
    {
     "name": "stderr",
     "output_type": "stream",
     "text": [
      "c:\\Users\\USER\\AppData\\Local\\Programs\\Python\\Python312\\Lib\\site-packages\\keras\\src\\layers\\reshaping\\flatten.py:37: UserWarning: Do not pass an `input_shape`/`input_dim` argument to a layer. When using Sequential models, prefer using an `Input(shape)` object as the first layer in the model instead.\n",
      "  super().__init__(**kwargs)\n"
     ]
    },
    {
     "name": "stdout",
     "output_type": "stream",
     "text": [
      "Epoch 1/5\n",
      "\u001b[1m1875/1875\u001b[0m \u001b[32m━━━━━━━━━━━━━━━━━━━━\u001b[0m\u001b[37m\u001b[0m \u001b[1m3s\u001b[0m 962us/step - accuracy: 0.8736 - loss: 0.4490\n",
      "Epoch 2/5\n",
      "\u001b[1m1875/1875\u001b[0m \u001b[32m━━━━━━━━━━━━━━━━━━━━\u001b[0m\u001b[37m\u001b[0m \u001b[1m2s\u001b[0m 993us/step - accuracy: 0.9606 - loss: 0.1342\n",
      "Epoch 3/5\n",
      "\u001b[1m1875/1875\u001b[0m \u001b[32m━━━━━━━━━━━━━━━━━━━━\u001b[0m\u001b[37m\u001b[0m \u001b[1m2s\u001b[0m 1ms/step - accuracy: 0.9742 - loss: 0.0851\n",
      "Epoch 4/5\n",
      "\u001b[1m1875/1875\u001b[0m \u001b[32m━━━━━━━━━━━━━━━━━━━━\u001b[0m\u001b[37m\u001b[0m \u001b[1m2s\u001b[0m 1ms/step - accuracy: 0.9807 - loss: 0.0623\n",
      "Epoch 5/5\n",
      "\u001b[1m1875/1875\u001b[0m \u001b[32m━━━━━━━━━━━━━━━━━━━━\u001b[0m\u001b[37m\u001b[0m \u001b[1m2s\u001b[0m 1ms/step - accuracy: 0.9844 - loss: 0.0499\n"
     ]
    },
    {
     "data": {
      "text/plain": [
       "<keras.src.callbacks.history.History at 0x25e63d0da00>"
      ]
     },
     "execution_count": 13,
     "metadata": {},
     "output_type": "execute_result"
    }
   ],
   "source": [
    "# Use Flatten layer so we don't have to reshape manually\n",
    "model=keras.Sequential([\n",
    "    keras.layers.Flatten(input_shape=(28,28)),\n",
    "    keras.layers.Dense(100,activation='relu'),\n",
    "    keras.layers.Dense(10,activation='sigmoid')\n",
    "])\n",
    "model.compile(optimizer='adam',\n",
    "              loss='sparse_categorical_crossentropy',\n",
    "              metrics=['accuracy'])\n",
    "tb_callback = tf.keras.callbacks.TensorBoard(log_dir=\"logs/\", histogram_freq=1)\n",
    "model.fit(X_train,y_train,epochs=5,callbacks=[tb_callback])"
   ]
  },
  {
   "cell_type": "code",
   "execution_count": 18,
   "id": "7eb6aa10",
   "metadata": {},
   "outputs": [
    {
     "name": "stdout",
     "output_type": "stream",
     "text": [
      "The tensorboard extension is already loaded. To reload it, use:\n",
      "  %reload_ext tensorboard\n"
     ]
    },
    {
     "data": {
      "text/plain": [
       "Reusing TensorBoard on port 6007 (pid 11908), started 0:00:05 ago. (Use '!kill 11908' to kill it.)"
      ]
     },
     "metadata": {},
     "output_type": "display_data"
    },
    {
     "data": {
      "text/html": [
       "\n",
       "      <iframe id=\"tensorboard-frame-8cffcdefeb8f161f\" width=\"100%\" height=\"800\" frameborder=\"0\">\n",
       "      </iframe>\n",
       "      <script>\n",
       "        (function() {\n",
       "          const frame = document.getElementById(\"tensorboard-frame-8cffcdefeb8f161f\");\n",
       "          const url = new URL(\"http://localhost\");\n",
       "          const port = 6007;\n",
       "          if (port) {\n",
       "            url.port = port;\n",
       "          }\n",
       "          frame.src = url;\n",
       "        })();\n",
       "      </script>\n",
       "    "
      ],
      "text/plain": [
       "<IPython.core.display.HTML object>"
      ]
     },
     "metadata": {},
     "output_type": "display_data"
    }
   ],
   "source": [
    "%load_ext tensorboard\n",
    "%tensorboard --logdir logs/"
   ]
  },
  {
   "cell_type": "code",
   "execution_count": 14,
   "id": "70a8aeae",
   "metadata": {},
   "outputs": [
    {
     "data": {
      "text/plain": [
       "[array([[-2.2632927e-03,  7.2426349e-04, -4.7313407e-02, ...,\n",
       "         -3.1730521e-02,  2.5146328e-02, -6.5840244e-02],\n",
       "        [ 3.0660510e-02,  2.6458263e-02, -9.3139261e-03, ...,\n",
       "         -2.3341328e-02,  3.5432778e-02,  9.8474473e-03],\n",
       "        [ 5.9801817e-02, -6.9005638e-02,  5.9182942e-02, ...,\n",
       "          8.1470534e-02, -7.9347104e-02, -3.2695208e-02],\n",
       "        ...,\n",
       "        [-1.3652630e-02,  2.7376615e-02, -1.1686109e-02, ...,\n",
       "          1.4203079e-02,  9.3303621e-05, -6.5012053e-03],\n",
       "        [ 1.0384664e-02,  4.4131279e-02,  7.0071936e-02, ...,\n",
       "          6.2708631e-03,  4.6684012e-02,  3.0673318e-02],\n",
       "        [-2.6779260e-02,  4.9185500e-02, -5.4804124e-02, ...,\n",
       "          1.8407099e-02,  6.6013873e-02, -3.9560519e-02]], dtype=float32),\n",
       " array([ 0.01388467,  0.08058453, -0.02765463,  0.04927962,  0.04480818,\n",
       "         0.22328053,  0.00716628,  0.06016313,  0.00672877,  0.09050093,\n",
       "         0.08017118,  0.02325167,  0.10799768,  0.06236878,  0.05600288,\n",
       "         0.10714159, -0.10850198,  0.05628794,  0.00219831, -0.08620727,\n",
       "         0.02626644,  0.02872595,  0.04355103,  0.06087073, -0.09488426,\n",
       "        -0.00812149, -0.12635465,  0.02304238,  0.0706329 ,  0.06311668,\n",
       "         0.01267657,  0.07899431,  0.14741696,  0.08334828,  0.01782887,\n",
       "         0.00629139,  0.04979593,  0.11608418, -0.06641732, -0.18602072,\n",
       "         0.07121956,  0.1665168 , -0.08374243,  0.15220708,  0.12150603,\n",
       "        -0.10235319,  0.13914227,  0.19984452, -0.08992435, -0.11696394,\n",
       "         0.10634416,  0.01262302,  0.03037068, -0.01539387, -0.11360081,\n",
       "         0.22838388,  0.1122562 ,  0.01509884,  0.0542403 ,  0.04947699,\n",
       "        -0.00418998, -0.00055445,  0.02466357,  0.14793415, -0.00241894,\n",
       "        -0.06646751, -0.13411033, -0.05815025,  0.05748579,  0.05438359,\n",
       "         0.02556336,  0.07086147,  0.08286496,  0.05071568, -0.05935104,\n",
       "        -0.04240553, -0.06400986,  0.14040425,  0.06168059,  0.12815377,\n",
       "        -0.13760526,  0.0863063 ,  0.01448005, -0.16108362, -0.12151086,\n",
       "         0.0428324 , -0.11358746,  0.04460471,  0.02422781, -0.08640885,\n",
       "        -0.06566396,  0.02923561,  0.05777928,  0.06194738, -0.09404356,\n",
       "         0.15434784,  0.13117269,  0.2858005 ,  0.0968606 , -0.00343539],\n",
       "       dtype=float32),\n",
       " array([[-3.29194009e-01,  9.68342647e-02,  1.95141733e-01,\n",
       "         -3.58995080e-01, -1.27750546e-01, -8.19810212e-01,\n",
       "          1.02149189e-01,  3.84615421e-01,  1.57268569e-01,\n",
       "         -3.27744633e-01],\n",
       "        [ 1.21900626e-01,  4.33391154e-01, -5.85381866e-01,\n",
       "         -2.86897331e-01, -2.84197927e-01,  7.61455074e-02,\n",
       "          6.73795417e-02,  2.68681407e-01, -2.20754281e-01,\n",
       "          4.08009857e-01],\n",
       "        [ 7.66500384e-02, -4.60772395e-01, -1.60943195e-01,\n",
       "          8.71580094e-03, -5.77551007e-01, -1.20556410e-02,\n",
       "         -3.57403308e-01,  2.31106147e-01, -1.42677501e-01,\n",
       "          5.22483364e-02],\n",
       "        [ 4.97751653e-01,  5.97134046e-02,  2.85466194e-01,\n",
       "          1.08825929e-01, -2.11636275e-01,  1.90520316e-01,\n",
       "         -1.67713657e-01, -5.47084287e-02, -6.94382489e-01,\n",
       "          1.17239207e-01],\n",
       "        [-3.23343515e-01,  9.54818800e-02, -1.25358030e-01,\n",
       "          9.63296965e-02, -2.07277820e-01,  1.48923203e-01,\n",
       "          1.19429417e-01,  5.75764701e-02,  2.12444931e-01,\n",
       "          2.07358763e-01],\n",
       "        [-2.03407243e-01,  6.08974755e-01,  7.92170092e-02,\n",
       "         -6.91043437e-02,  2.31855169e-01,  2.61510342e-01,\n",
       "          1.97509974e-01, -9.83697698e-02, -7.11924434e-01,\n",
       "         -4.79208499e-01],\n",
       "        [ 1.67860687e-01, -1.21558852e-01,  2.38260671e-01,\n",
       "          2.36267716e-01, -7.33291030e-01, -5.39566755e-01,\n",
       "         -3.06510538e-01,  2.92270392e-01, -1.10215023e-01,\n",
       "          2.31791556e-01],\n",
       "        [ 1.04789868e-01,  6.49098217e-01, -6.61595821e-01,\n",
       "         -4.59065944e-01,  1.79028437e-01,  3.11795354e-01,\n",
       "         -6.30928427e-02,  3.14873785e-01, -4.91232395e-01,\n",
       "          1.52110517e-01],\n",
       "        [-3.35249215e-01, -6.17887229e-02, -6.67854398e-02,\n",
       "          2.04716727e-01,  2.28204966e-01, -5.05311012e-01,\n",
       "          1.75961092e-01, -1.02398880e-01,  4.14286405e-02,\n",
       "          1.90833390e-01],\n",
       "        [-6.53393269e-02,  4.62590121e-02,  2.16269612e-01,\n",
       "         -1.43408120e-01, -8.08103681e-02, -7.09008984e-03,\n",
       "          3.07826936e-01,  7.75765553e-02, -3.36425066e-01,\n",
       "         -6.30446851e-01],\n",
       "        [ 2.69073755e-01,  6.65791938e-03, -2.99626321e-01,\n",
       "          1.77625462e-01,  7.60132521e-02,  6.36746138e-02,\n",
       "          1.65027589e-01,  2.55292863e-01, -5.10319471e-01,\n",
       "         -3.61945510e-01],\n",
       "        [-6.78087771e-01,  3.37722629e-01,  3.27739236e-03,\n",
       "          3.12557995e-01,  2.81754345e-01, -3.90782773e-01,\n",
       "         -5.20974994e-01, -3.26715916e-01,  7.84328133e-02,\n",
       "          4.01285291e-01],\n",
       "        [-1.72003835e-01,  2.49626219e-01, -4.28667307e-01,\n",
       "         -1.62383631e-01,  1.90014809e-01,  3.19926828e-01,\n",
       "         -1.28113814e-02, -1.29669070e-01,  1.91641986e-01,\n",
       "         -2.15486869e-01],\n",
       "        [ 1.79275140e-01, -1.67184442e-01, -6.40075281e-02,\n",
       "         -1.54672965e-01,  2.38086268e-01, -3.40940095e-02,\n",
       "          9.57834572e-02, -1.24609984e-01,  2.20584065e-01,\n",
       "          1.33287892e-01],\n",
       "        [ 2.49489173e-01,  3.75362635e-01,  8.39163437e-02,\n",
       "         -1.92672774e-01, -2.95662403e-01, -7.26491138e-02,\n",
       "          1.55942470e-01,  2.26265099e-03, -2.71248043e-01,\n",
       "         -1.26438275e-01],\n",
       "        [ 1.16473369e-01,  1.70406863e-01, -5.36120713e-01,\n",
       "         -4.46943194e-01,  5.95678449e-01,  2.46717095e-01,\n",
       "          1.35569856e-01, -2.41355877e-02, -1.71824172e-01,\n",
       "         -4.58127975e-01],\n",
       "        [-6.11437321e-01,  4.74076644e-02,  2.60573208e-01,\n",
       "          4.31076027e-02, -3.53948832e-01,  1.60238251e-01,\n",
       "         -3.53439897e-01,  6.83825076e-01, -3.53021950e-01,\n",
       "         -8.63427758e-01],\n",
       "        [ 1.70830444e-01, -3.42250496e-01, -2.74423838e-01,\n",
       "          7.37439021e-02,  5.65745356e-03,  8.70802775e-02,\n",
       "         -5.74165545e-02,  4.41734493e-02,  1.26612335e-01,\n",
       "         -5.65540232e-02],\n",
       "        [-3.94299984e-01, -2.13497281e-01,  2.22055286e-01,\n",
       "          1.77242428e-01, -4.71949458e-01,  3.11831862e-01,\n",
       "          3.19624901e-01,  3.43370102e-02,  1.56143084e-01,\n",
       "         -4.84883934e-01],\n",
       "        [ 1.86264575e-01,  1.84220105e-01,  1.81250229e-01,\n",
       "         -1.05754584e-01,  8.08902234e-02, -7.99819589e-01,\n",
       "         -3.97731215e-01, -1.69836115e-02,  1.31756842e-01,\n",
       "          2.75562555e-01],\n",
       "        [ 2.86015868e-01,  1.54860139e-01,  2.88807571e-01,\n",
       "         -6.01330519e-01,  5.50450325e-01, -4.14028704e-01,\n",
       "         -5.83061039e-01,  2.24679828e-01,  1.37096539e-01,\n",
       "         -2.78299034e-01],\n",
       "        [ 2.56149739e-01,  3.59029949e-01,  2.34976918e-01,\n",
       "         -5.69783688e-01,  1.58506572e-01, -3.20327669e-01,\n",
       "         -2.12568924e-01, -1.87178478e-01,  1.74814031e-01,\n",
       "         -2.12488342e-02],\n",
       "        [ 3.25640649e-01,  3.19574058e-01,  1.92512363e-01,\n",
       "         -3.56205344e-01,  6.23026080e-02, -3.98838520e-01,\n",
       "          3.12939793e-01,  1.23848155e-01, -7.53991008e-01,\n",
       "         -7.23014399e-02],\n",
       "        [-2.71804303e-01,  3.24887931e-01,  4.53087807e-01,\n",
       "         -6.29947603e-01,  2.01141149e-01, -5.26870430e-01,\n",
       "         -2.74529874e-01, -9.02096629e-02, -1.01159364e-01,\n",
       "          1.12080447e-01],\n",
       "        [ 2.21693009e-01,  2.14089110e-01,  1.55415505e-01,\n",
       "         -1.40418455e-01,  2.57765323e-01, -6.98750138e-01,\n",
       "         -1.34080306e-01,  9.86790806e-02, -3.53961647e-01,\n",
       "          2.31719434e-01],\n",
       "        [ 1.68316007e-01, -2.21993670e-01,  8.10430944e-02,\n",
       "         -1.00304507e-01, -6.01543427e-01,  9.44836289e-02,\n",
       "         -1.96720541e-01,  6.44947141e-02,  9.44943652e-02,\n",
       "          4.86127511e-02],\n",
       "        [-1.89929441e-01,  1.59317836e-01, -1.62390023e-02,\n",
       "          9.30486023e-02, -2.47367084e-01, -1.69488303e-02,\n",
       "         -1.77332148e-01,  2.06447288e-01,  1.41747400e-01,\n",
       "         -3.34338784e-01],\n",
       "        [-4.09844309e-01,  2.05121681e-01, -2.73357660e-01,\n",
       "          9.46317837e-02, -4.10257578e-01,  4.88038480e-01,\n",
       "          5.17839491e-01,  1.01585858e-01,  1.25478506e-01,\n",
       "         -3.45450759e-01],\n",
       "        [-2.86681026e-01,  2.68410444e-01, -7.95061439e-02,\n",
       "          1.68812081e-01,  3.73596251e-01, -4.78533328e-01,\n",
       "          7.68389031e-02,  3.70283306e-01, -2.72077471e-01,\n",
       "         -3.04930270e-01],\n",
       "        [ 1.49229448e-02,  1.55362487e-01, -3.40992332e-01,\n",
       "         -1.70966715e-01, -1.75049692e-01, -3.51984710e-01,\n",
       "          3.82017702e-01, -1.23904906e-01,  3.79454732e-01,\n",
       "          1.88773349e-01],\n",
       "        [ 2.34974936e-01, -3.28982562e-01,  4.00211178e-02,\n",
       "         -8.43117237e-02,  2.23938674e-01, -2.48967141e-01,\n",
       "         -3.12072754e-01,  2.67210513e-01, -5.96475899e-02,\n",
       "          1.66883007e-01],\n",
       "        [ 1.54249400e-01, -2.48859107e-01,  2.74833828e-01,\n",
       "         -1.25522405e-01,  2.61917353e-01, -2.31381029e-01,\n",
       "          2.36496240e-01, -4.56481487e-01, -5.06864488e-01,\n",
       "         -2.56075293e-01],\n",
       "        [ 8.07041302e-02, -6.93945289e-01, -5.11991084e-02,\n",
       "         -3.41468275e-01,  1.92252561e-01,  2.83159196e-01,\n",
       "          1.93570152e-01,  1.08912408e-01,  2.72443891e-01,\n",
       "         -3.55215311e-01],\n",
       "        [-1.17883012e-01, -9.63117406e-02,  2.58093804e-01,\n",
       "          6.35427415e-01, -4.00747716e-01, -2.91325033e-01,\n",
       "         -4.16374467e-02, -2.62201339e-01, -3.40175480e-01,\n",
       "         -2.81098932e-01],\n",
       "        [ 2.81913489e-01,  2.73411810e-01, -1.21284552e-01,\n",
       "         -1.99212611e-01, -1.76181108e-01,  9.07248631e-02,\n",
       "          1.83412150e-01, -1.14494815e-01, -3.91265541e-01,\n",
       "          4.48671818e-01],\n",
       "        [-8.74779932e-03,  4.74521630e-02, -2.06367835e-01,\n",
       "         -1.84415758e-01,  1.69382393e-01, -1.92913830e-01,\n",
       "         -6.89107031e-02,  2.15988725e-01, -7.42628705e-03,\n",
       "          1.90770730e-01],\n",
       "        [ 1.37831166e-01, -2.33492404e-01,  7.02859312e-02,\n",
       "         -2.96451420e-01, -5.11455476e-01,  1.19714528e-01,\n",
       "         -2.93243378e-01,  1.32054254e-01,  2.62354434e-01,\n",
       "          7.71356598e-02],\n",
       "        [-1.52512431e-01, -2.63659567e-01, -2.23047525e-01,\n",
       "         -3.79430652e-02, -4.86301109e-02,  7.00652003e-02,\n",
       "          1.96616068e-01, -8.64954479e-03,  2.19852641e-01,\n",
       "          5.46587165e-03],\n",
       "        [-3.87045532e-01,  3.24044734e-01,  3.18635136e-01,\n",
       "          1.98546126e-02,  4.10610177e-02,  4.61476684e-01,\n",
       "         -2.13753402e-01,  3.64589840e-01, -4.07893360e-01,\n",
       "         -5.29452264e-01],\n",
       "        [ 2.14270130e-01,  2.42340863e-01,  2.44680911e-01,\n",
       "          2.80631006e-01, -5.15271246e-01, -3.00716490e-01,\n",
       "         -1.52639046e-01, -1.82920486e-01,  3.46519053e-02,\n",
       "          2.29086191e-03],\n",
       "        [-1.32180676e-01, -1.83833674e-01, -3.85635123e-02,\n",
       "          2.04969734e-01, -1.11476853e-01,  1.47274196e-01,\n",
       "         -2.14952633e-01, -3.24205071e-01,  2.72734821e-01,\n",
       "          2.20384691e-02],\n",
       "        [ 3.26997004e-02, -6.63092256e-01, -1.18832864e-01,\n",
       "         -2.67309815e-01,  3.05793971e-01,  4.16268893e-02,\n",
       "          3.06397349e-01, -3.48688990e-01,  7.11854547e-02,\n",
       "          1.93220869e-01],\n",
       "        [-5.99276125e-02, -1.30193427e-01, -5.22663668e-02,\n",
       "          2.32907116e-01, -4.54710186e-01, -3.27677220e-01,\n",
       "          4.21521068e-01,  2.52844274e-01, -2.08524540e-01,\n",
       "          2.49663398e-01],\n",
       "        [-7.80155838e-01, -2.26786062e-02, -4.03224707e-01,\n",
       "          3.58838320e-01,  3.25109601e-01,  4.21588838e-01,\n",
       "         -6.90381646e-01, -2.40968689e-01, -5.55703700e-01,\n",
       "          2.99098700e-01],\n",
       "        [-6.64056838e-01,  4.08162251e-02,  3.69498789e-01,\n",
       "         -2.56301850e-01,  2.30823923e-02,  1.54774949e-01,\n",
       "         -5.47740683e-02,  1.17542788e-01,  4.19029951e-01,\n",
       "         -1.61271542e-01],\n",
       "        [-1.05630957e-01, -3.70897263e-01,  2.54790306e-01,\n",
       "          3.41343611e-01, -9.63566542e-01, -1.83099762e-01,\n",
       "         -3.48881215e-01,  2.82423735e-01, -1.89925835e-01,\n",
       "         -6.23354733e-01],\n",
       "        [ 3.19351524e-01,  3.26400250e-01,  9.19580087e-02,\n",
       "          9.89246890e-02, -5.66493928e-01,  3.07501256e-01,\n",
       "         -2.73500413e-01, -2.64391061e-02, -4.31488067e-01,\n",
       "         -1.00225836e-01],\n",
       "        [-3.18820804e-01, -1.84052497e-01, -4.83203828e-01,\n",
       "          1.09320134e-01,  2.02160642e-01,  3.20198536e-01,\n",
       "         -6.13468707e-01,  2.13283584e-01,  3.60548124e-02,\n",
       "          2.28029072e-01],\n",
       "        [ 1.58494502e-01, -1.49362370e-01, -2.24239901e-01,\n",
       "         -2.83271372e-01, -2.95784801e-01, -3.53865296e-01,\n",
       "          2.37446845e-01,  1.53980359e-01,  6.50440380e-02,\n",
       "          2.76909232e-01],\n",
       "        [ 2.46235475e-01,  2.74148136e-01, -3.02639097e-01,\n",
       "          2.08555251e-01,  1.28381282e-01, -1.63464651e-01,\n",
       "         -9.92686376e-02,  2.24606752e-01,  2.42858678e-02,\n",
       "          4.18756809e-03],\n",
       "        [-1.11335248e-01,  2.19135303e-02,  1.27894342e-01,\n",
       "         -2.18679652e-01,  2.31900707e-01, -1.71421066e-01,\n",
       "          1.66625604e-01, -2.24049821e-01,  1.52042374e-01,\n",
       "          3.09481453e-02],\n",
       "        [-5.87934196e-01,  6.04887791e-02, -3.58951628e-01,\n",
       "          2.94764310e-01, -1.33737653e-01,  3.44461948e-01,\n",
       "         -5.86231112e-01, -2.70143270e-01, -1.37773111e-01,\n",
       "          1.50839165e-01],\n",
       "        [ 2.70582438e-01,  2.10558638e-01, -5.44072986e-01,\n",
       "         -8.01412910e-02, -2.44706217e-02, -2.96917319e-01,\n",
       "          1.13238633e-01, -2.08929420e-01,  1.25742361e-01,\n",
       "          1.25707850e-01],\n",
       "        [ 2.44714186e-01,  3.33489358e-01,  1.34985104e-01,\n",
       "         -9.86830983e-03,  2.77378350e-01, -2.33375207e-02,\n",
       "         -4.79051352e-01,  3.21262419e-01, -5.11319518e-01,\n",
       "          2.56594509e-01],\n",
       "        [-3.48493159e-01,  1.07678384e-01, -7.33103901e-02,\n",
       "          6.13051606e-03,  2.68739797e-02, -3.89926821e-01,\n",
       "         -2.55024552e-01,  1.88852131e-01,  1.08618453e-01,\n",
       "         -3.26222301e-01],\n",
       "        [-3.26370060e-01, -3.25951070e-01,  2.05003738e-01,\n",
       "         -6.16158783e-01,  1.78737998e-01,  1.44085616e-01,\n",
       "          2.62492895e-01,  2.27144465e-01, -8.49966630e-02,\n",
       "          6.62299898e-03],\n",
       "        [-1.31097838e-01,  1.37204394e-01, -6.06075764e-01,\n",
       "         -2.25497290e-01,  2.16140211e-01,  3.06613326e-01,\n",
       "          2.42520183e-01,  5.90861514e-02, -1.99152231e-01,\n",
       "          2.83666730e-01],\n",
       "        [ 7.64860436e-02, -3.19982469e-01, -4.98523980e-01,\n",
       "          4.06159014e-01, -6.85007215e-01,  2.47653559e-01,\n",
       "         -9.15644988e-02, -4.68573064e-01,  1.46035686e-01,\n",
       "         -1.72608018e-01],\n",
       "        [-2.33446956e-01, -5.71322322e-01, -7.15219155e-02,\n",
       "          1.58616930e-01, -2.84241527e-01,  2.56481290e-01,\n",
       "         -8.28909695e-01,  1.13787621e-01, -3.94052893e-01,\n",
       "          3.28522950e-01],\n",
       "        [-3.50181162e-01,  2.60192096e-01,  2.89087683e-01,\n",
       "         -1.23957463e-01, -5.04968524e-01, -9.00874846e-03,\n",
       "         -4.30808067e-02, -4.20502067e-01,  6.53796196e-02,\n",
       "          5.93222231e-02],\n",
       "        [-2.18362540e-01, -3.20097893e-01,  5.66958189e-01,\n",
       "          2.40930289e-01, -4.77277398e-01, -1.21124841e-01,\n",
       "         -2.79548913e-01,  3.01809877e-01, -4.56467420e-01,\n",
       "         -3.22582394e-01],\n",
       "        [ 2.29212821e-01, -3.18084329e-01,  1.35432214e-01,\n",
       "         -1.05928391e-01,  3.67404968e-01,  2.06480585e-02,\n",
       "          2.02833861e-01, -8.79786536e-02, -1.51239336e-01,\n",
       "         -6.14730239e-01],\n",
       "        [-2.25624457e-01, -2.13724643e-01,  1.41849086e-01,\n",
       "         -1.23518193e-02, -3.32440078e-01, -1.19508458e-02,\n",
       "          2.57757515e-01,  9.41256955e-02,  8.55607018e-02,\n",
       "         -5.39733291e-01],\n",
       "        [ 8.53247568e-02,  2.88404912e-01,  2.12009624e-01,\n",
       "         -2.04228207e-01, -2.60917153e-02,  1.74417347e-01,\n",
       "          1.53127074e-01, -3.73414934e-01,  1.99700713e-01,\n",
       "         -3.84952843e-01],\n",
       "        [-2.72430807e-01, -2.45027795e-01,  2.41090894e-01,\n",
       "          2.46652082e-01, -1.88878179e-01,  3.29487979e-01,\n",
       "         -3.50509614e-01, -2.82563508e-01,  2.86719412e-01,\n",
       "          2.36070171e-01],\n",
       "        [-1.68434888e-01,  1.16220862e-01,  1.53511196e-01,\n",
       "          1.44074798e-01, -2.96015203e-01,  2.93415971e-02,\n",
       "         -7.16540888e-02, -1.70132384e-01,  2.02024743e-01,\n",
       "         -2.12067515e-01],\n",
       "        [ 2.48406261e-01, -2.29032353e-01,  2.63322711e-01,\n",
       "         -7.47814849e-02,  6.26420006e-02, -4.95673239e-01,\n",
       "         -3.55531394e-01,  5.52284643e-02,  1.72125310e-01,\n",
       "          1.63391873e-01],\n",
       "        [-3.53916913e-01, -2.13019744e-01, -3.42473596e-01,\n",
       "          6.93070590e-01,  2.57344097e-01, -1.31233737e-01,\n",
       "         -4.83307272e-01,  2.14801431e-01, -4.49337035e-01,\n",
       "         -3.19791019e-01],\n",
       "        [-3.95782739e-02, -5.07007241e-02, -2.10556060e-01,\n",
       "          1.48919448e-01,  1.35121047e-01,  1.42771050e-01,\n",
       "         -2.88912624e-01, -5.45440540e-02,  2.19146386e-01,\n",
       "          4.90483120e-02],\n",
       "        [-4.65697944e-01,  1.49978269e-02,  3.48834038e-01,\n",
       "          2.74944246e-01,  2.03666445e-02,  4.38084081e-03,\n",
       "         -8.70859902e-03,  4.41973329e-01,  8.72332677e-02,\n",
       "         -4.50059503e-01],\n",
       "        [ 2.11561054e-01, -2.91224271e-01, -4.46744934e-02,\n",
       "          1.56966299e-01,  2.27227136e-02,  1.38729408e-01,\n",
       "          2.51153439e-01, -8.68890956e-02,  1.37363240e-01,\n",
       "         -1.82451755e-01],\n",
       "        [-7.79253960e-01,  1.49236530e-01,  1.37528867e-01,\n",
       "          2.57915795e-01,  4.00880098e-01,  2.36489043e-01,\n",
       "         -1.78727463e-01,  3.48310210e-02,  7.23126829e-02,\n",
       "         -1.27011672e-01],\n",
       "        [ 1.35023519e-01,  2.88475990e-01, -6.53378308e-01,\n",
       "         -7.21289873e-01,  1.46037966e-01,  3.60648006e-01,\n",
       "          5.42929947e-01, -3.99017781e-01, -3.23617399e-01,\n",
       "          1.11914217e-01],\n",
       "        [-4.32783246e-01,  3.21064174e-01, -1.63215443e-01,\n",
       "         -1.70732662e-01,  3.46948266e-01, -3.90163600e-01,\n",
       "         -1.97894007e-01,  3.24242026e-01, -5.48456669e-01,\n",
       "          1.85671151e-01],\n",
       "        [-1.77677110e-01, -2.06886977e-02, -1.22776128e-01,\n",
       "          4.31568660e-02,  1.51672259e-01, -3.19858968e-01,\n",
       "         -4.04549420e-01,  2.28448480e-01,  1.67596653e-01,\n",
       "          2.02463180e-01],\n",
       "        [ 6.26180395e-02, -3.20675731e-01,  2.16290966e-01,\n",
       "          1.43755019e-01, -1.14691210e+00,  3.61743182e-01,\n",
       "         -2.29613528e-01,  2.03623325e-01,  2.62776855e-02,\n",
       "          1.05813764e-01],\n",
       "        [-6.83502436e-01,  2.11495876e-01, -6.59636408e-02,\n",
       "          3.66411775e-01, -2.32628435e-01,  3.03610444e-01,\n",
       "         -6.85952067e-01, -5.01038879e-02, -2.45315492e-01,\n",
       "          2.13241234e-01],\n",
       "        [-1.68076083e-01,  2.75433064e-01,  2.90424913e-01,\n",
       "         -2.07517430e-01,  2.54053771e-01, -8.89339745e-02,\n",
       "          1.75661057e-01, -7.10410178e-01, -9.89846066e-02,\n",
       "          1.43644288e-01],\n",
       "        [ 2.92683899e-01, -3.11009914e-01,  1.53081968e-01,\n",
       "         -1.17259376e-01, -6.28913343e-01,  6.48277625e-02,\n",
       "          8.21789168e-03, -2.80563504e-01, -4.60457057e-02,\n",
       "         -1.70736253e-01],\n",
       "        [-1.62660941e-01,  2.65286528e-02, -1.52914077e-01,\n",
       "          3.19334418e-02,  2.44024560e-01,  1.65032327e-01,\n",
       "         -5.83768964e-01, -1.63722914e-02,  2.40036532e-01,\n",
       "          2.12098420e-01],\n",
       "        [ 6.31720722e-02, -6.81265518e-02,  1.58284932e-01,\n",
       "          1.20978989e-01, -3.16583551e-02, -5.07117629e-01,\n",
       "         -3.30591708e-01, -7.80816525e-02,  1.11572817e-01,\n",
       "          2.39681467e-01],\n",
       "        [-3.34206045e-01,  3.74909669e-01,  1.44929752e-01,\n",
       "         -2.92463303e-01, -6.32309794e-01, -1.25521317e-01,\n",
       "          4.10083622e-01, -1.40223444e-01, -1.35139171e-02,\n",
       "          1.51486233e-01],\n",
       "        [-7.47230172e-01,  2.26456970e-01, -4.34248418e-01,\n",
       "          3.79032224e-01,  1.63965538e-01,  4.71265972e-01,\n",
       "         -7.95048952e-01, -6.71014011e-01, -2.18802273e-01,\n",
       "          5.10352194e-01],\n",
       "        [ 3.07636261e-01,  2.19393313e-01,  3.45972061e-01,\n",
       "          1.20261617e-01, -2.98660547e-01, -6.19474709e-01,\n",
       "         -5.91862440e-01,  3.17634255e-01, -1.92744672e-01,\n",
       "         -1.84145615e-01],\n",
       "        [ 4.89248261e-02, -2.32544029e-03,  1.70049697e-01,\n",
       "          4.49874908e-01, -5.24551421e-02, -7.44997203e-01,\n",
       "         -7.41182193e-02, -9.75925997e-02,  1.09322108e-01,\n",
       "         -3.96069229e-01],\n",
       "        [-3.07369739e-01,  5.48288763e-01, -2.80403234e-02,\n",
       "          2.11779892e-01, -3.70815724e-01, -2.38147168e-03,\n",
       "         -1.24365173e-01,  3.15464400e-02,  9.99072269e-02,\n",
       "         -3.63983721e-01],\n",
       "        [-2.01204613e-01, -1.48315236e-01,  1.95720628e-01,\n",
       "          3.58327001e-01,  5.04181348e-02, -3.60501170e-01,\n",
       "         -9.65710878e-02,  1.42344937e-01,  1.84138566e-01,\n",
       "         -3.62447023e-01],\n",
       "        [-3.79318357e-01, -5.96990110e-03,  2.06790492e-01,\n",
       "         -4.03899908e-01,  2.56463885e-01, -6.38073906e-02,\n",
       "         -2.10228443e-01,  3.78971815e-01,  3.67693841e-01,\n",
       "         -9.78380740e-02],\n",
       "        [-1.21500090e-01, -1.98106259e-01,  6.96035773e-02,\n",
       "         -3.58678788e-01,  3.98107976e-01, -1.13251716e-01,\n",
       "         -2.57628649e-01,  3.46916318e-01, -8.26751709e-01,\n",
       "          1.61536723e-01],\n",
       "        [ 1.16834059e-01, -3.23700070e-01, -1.17336519e-01,\n",
       "          1.80333659e-01, -1.96999572e-02, -4.88370866e-01,\n",
       "          2.80330300e-01,  1.11446716e-01,  3.55174877e-02,\n",
       "          1.66109294e-01],\n",
       "        [ 1.67020429e-02, -2.62550801e-01, -3.78252706e-03,\n",
       "          4.17128205e-01, -2.33362183e-01, -2.83914685e-01,\n",
       "          2.23574713e-01, -8.51935074e-02, -2.65341043e-01,\n",
       "          1.39009774e-01],\n",
       "        [-2.21782207e-01,  5.21164499e-02,  1.60217106e-01,\n",
       "          1.63077354e-01, -7.28780255e-02, -2.20640954e-02,\n",
       "          2.33572811e-01,  8.14646780e-02,  8.37553591e-02,\n",
       "         -7.29652405e-01],\n",
       "        [ 2.82714665e-01, -3.31557930e-01, -1.60804927e-01,\n",
       "          9.35039148e-02, -3.37010086e-01,  1.89301014e-01,\n",
       "          3.41173708e-01, -2.97148317e-01,  2.25635961e-01,\n",
       "          1.01673522e-03],\n",
       "        [-2.09802777e-01,  1.69737518e-01, -9.78891775e-02,\n",
       "          1.28365867e-02, -7.42868036e-02,  9.86905489e-03,\n",
       "          8.75001624e-02, -1.16752081e-01,  2.04312548e-01,\n",
       "         -2.57434636e-01],\n",
       "        [ 2.44955033e-01, -2.79857457e-01,  1.24904342e-01,\n",
       "          1.18796818e-01, -2.43706927e-01, -4.03660871e-02,\n",
       "          7.81662092e-02, -2.96979874e-01,  2.18630090e-01,\n",
       "          2.03116797e-02],\n",
       "        [ 3.04723889e-01, -5.12811720e-01,  5.26664913e-01,\n",
       "          2.15120241e-03, -3.92274976e-01,  2.55476922e-01,\n",
       "         -2.27261633e-01, -5.94113648e-01, -3.08180988e-01,\n",
       "         -3.68056685e-01],\n",
       "        [-1.42110527e-01,  2.44642466e-01, -7.82051906e-02,\n",
       "         -5.99489689e-01, -8.99123549e-02,  4.67889726e-01,\n",
       "          5.11272140e-02,  4.72206146e-01, -3.47158521e-01,\n",
       "         -2.31920823e-01],\n",
       "        [ 5.25593236e-02, -4.23861325e-01,  1.76188201e-01,\n",
       "         -5.74589008e-03, -5.71257174e-01,  6.10950112e-01,\n",
       "         -5.51846981e-01,  1.34980157e-01, -3.37478548e-01,\n",
       "          2.18659282e-01],\n",
       "        [ 7.11895898e-02, -5.13792276e-01, -8.68711412e-01,\n",
       "         -3.63578290e-01,  9.46498290e-02,  3.57356846e-01,\n",
       "         -1.30902994e-02,  2.54395247e-01,  1.35390356e-01,\n",
       "         -6.06441963e-03],\n",
       "        [-4.39114049e-02, -1.59336448e-01,  4.24722880e-02,\n",
       "          1.77591518e-01, -2.14513279e-02, -1.59555852e-01,\n",
       "          2.55353749e-01, -3.25121015e-01,  7.63578862e-02,\n",
       "         -1.43053293e-01]], dtype=float32),\n",
       " array([-0.13258427, -0.04973716, -0.05107668, -0.12421778,  0.06620441,\n",
       "         0.16885175,  0.07231292, -0.10807943,  0.10374533, -0.00808426],\n",
       "       dtype=float32)]"
      ]
     },
     "execution_count": 14,
     "metadata": {},
     "output_type": "execute_result"
    }
   ],
   "source": [
    "model.get_weights()"
   ]
  },
  {
   "cell_type": "code",
   "execution_count": null,
   "id": "ac10bb9e",
   "metadata": {},
   "outputs": [],
   "source": []
  }
 ],
 "metadata": {
  "kernelspec": {
   "display_name": "Python 3",
   "language": "python",
   "name": "python3"
  },
  "language_info": {
   "codemirror_mode": {
    "name": "ipython",
    "version": 3
   },
   "file_extension": ".py",
   "mimetype": "text/x-python",
   "name": "python",
   "nbconvert_exporter": "python",
   "pygments_lexer": "ipython3",
   "version": "3.12.4"
  }
 },
 "nbformat": 4,
 "nbformat_minor": 5
}
