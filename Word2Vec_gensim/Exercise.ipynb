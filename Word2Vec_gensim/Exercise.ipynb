{
 "cells": [
  {
   "cell_type": "code",
   "execution_count": 2,
   "id": "704d9431",
   "metadata": {},
   "outputs": [],
   "source": [
    "import gensim\n",
    "import pandas as pd"
   ]
  },
  {
   "cell_type": "markdown",
   "id": "eb7b9da5",
   "metadata": {},
   "source": [
    "## Load and Explore dataset\n",
    "\n",
    "Dataset used is subset of Amazon reviews from Sports and Outdoors category. Stored as JSON file, can be read using Pandas\n",
    "Link: http://snap.stanford.edu/data/amazon/productGraph/categoryFiles/reviews_Sports_and_Outdoors_5.json.gz"
   ]
  },
  {
   "cell_type": "code",
   "execution_count": 4,
   "id": "dd37f1e8",
   "metadata": {},
   "outputs": [
    {
     "data": {
      "text/html": [
       "<div>\n",
       "<style scoped>\n",
       "    .dataframe tbody tr th:only-of-type {\n",
       "        vertical-align: middle;\n",
       "    }\n",
       "\n",
       "    .dataframe tbody tr th {\n",
       "        vertical-align: top;\n",
       "    }\n",
       "\n",
       "    .dataframe thead th {\n",
       "        text-align: right;\n",
       "    }\n",
       "</style>\n",
       "<table border=\"1\" class=\"dataframe\">\n",
       "  <thead>\n",
       "    <tr style=\"text-align: right;\">\n",
       "      <th></th>\n",
       "      <th>reviewerID</th>\n",
       "      <th>asin</th>\n",
       "      <th>reviewerName</th>\n",
       "      <th>helpful</th>\n",
       "      <th>reviewText</th>\n",
       "      <th>overall</th>\n",
       "      <th>summary</th>\n",
       "      <th>unixReviewTime</th>\n",
       "      <th>reviewTime</th>\n",
       "    </tr>\n",
       "  </thead>\n",
       "  <tbody>\n",
       "    <tr>\n",
       "      <th>0</th>\n",
       "      <td>AIXZKN4ACSKI</td>\n",
       "      <td>1881509818</td>\n",
       "      <td>David Briner</td>\n",
       "      <td>[0, 0]</td>\n",
       "      <td>This came in on time and I am veru happy with ...</td>\n",
       "      <td>5</td>\n",
       "      <td>Woks very good</td>\n",
       "      <td>1390694400</td>\n",
       "      <td>01 26, 2014</td>\n",
       "    </tr>\n",
       "    <tr>\n",
       "      <th>1</th>\n",
       "      <td>A1L5P841VIO02V</td>\n",
       "      <td>1881509818</td>\n",
       "      <td>Jason A. Kramer</td>\n",
       "      <td>[1, 1]</td>\n",
       "      <td>I had a factory Glock tool that I was using fo...</td>\n",
       "      <td>5</td>\n",
       "      <td>Works as well as the factory tool</td>\n",
       "      <td>1328140800</td>\n",
       "      <td>02 2, 2012</td>\n",
       "    </tr>\n",
       "    <tr>\n",
       "      <th>2</th>\n",
       "      <td>AB2W04NI4OEAD</td>\n",
       "      <td>1881509818</td>\n",
       "      <td>J. Fernald</td>\n",
       "      <td>[2, 2]</td>\n",
       "      <td>If you don't have a 3/32 punch or would like t...</td>\n",
       "      <td>4</td>\n",
       "      <td>It's a punch, that's all.</td>\n",
       "      <td>1330387200</td>\n",
       "      <td>02 28, 2012</td>\n",
       "    </tr>\n",
       "    <tr>\n",
       "      <th>3</th>\n",
       "      <td>A148SVSWKTJKU6</td>\n",
       "      <td>1881509818</td>\n",
       "      <td>Jusitn A. Watts \"Maverick9614\"</td>\n",
       "      <td>[0, 0]</td>\n",
       "      <td>This works no better than any 3/32 punch you w...</td>\n",
       "      <td>4</td>\n",
       "      <td>It's a punch with a Glock logo.</td>\n",
       "      <td>1328400000</td>\n",
       "      <td>02 5, 2012</td>\n",
       "    </tr>\n",
       "    <tr>\n",
       "      <th>4</th>\n",
       "      <td>AAAWJ6LW9WMOO</td>\n",
       "      <td>1881509818</td>\n",
       "      <td>Material Man</td>\n",
       "      <td>[0, 0]</td>\n",
       "      <td>I purchased this thinking maybe I need a speci...</td>\n",
       "      <td>4</td>\n",
       "      <td>Ok,tool does what a regular punch does.</td>\n",
       "      <td>1366675200</td>\n",
       "      <td>04 23, 2013</td>\n",
       "    </tr>\n",
       "  </tbody>\n",
       "</table>\n",
       "</div>"
      ],
      "text/plain": [
       "       reviewerID        asin                    reviewerName helpful  \\\n",
       "0    AIXZKN4ACSKI  1881509818                    David Briner  [0, 0]   \n",
       "1  A1L5P841VIO02V  1881509818                 Jason A. Kramer  [1, 1]   \n",
       "2   AB2W04NI4OEAD  1881509818                      J. Fernald  [2, 2]   \n",
       "3  A148SVSWKTJKU6  1881509818  Jusitn A. Watts \"Maverick9614\"  [0, 0]   \n",
       "4   AAAWJ6LW9WMOO  1881509818                    Material Man  [0, 0]   \n",
       "\n",
       "                                          reviewText  overall  \\\n",
       "0  This came in on time and I am veru happy with ...        5   \n",
       "1  I had a factory Glock tool that I was using fo...        5   \n",
       "2  If you don't have a 3/32 punch or would like t...        4   \n",
       "3  This works no better than any 3/32 punch you w...        4   \n",
       "4  I purchased this thinking maybe I need a speci...        4   \n",
       "\n",
       "                                   summary  unixReviewTime   reviewTime  \n",
       "0                           Woks very good      1390694400  01 26, 2014  \n",
       "1        Works as well as the factory tool      1328140800   02 2, 2012  \n",
       "2                It's a punch, that's all.      1330387200  02 28, 2012  \n",
       "3          It's a punch with a Glock logo.      1328400000   02 5, 2012  \n",
       "4  Ok,tool does what a regular punch does.      1366675200  04 23, 2013  "
      ]
     },
     "execution_count": 4,
     "metadata": {},
     "output_type": "execute_result"
    }
   ],
   "source": [
    "df=pd.read_json(\"reviews_Sports_and_Outdoors_5.json\",lines=True)\n",
    "df.head()"
   ]
  },
  {
   "cell_type": "code",
   "execution_count": 5,
   "id": "8a580355",
   "metadata": {},
   "outputs": [
    {
     "data": {
      "text/plain": [
       "(296337, 9)"
      ]
     },
     "execution_count": 5,
     "metadata": {},
     "output_type": "execute_result"
    }
   ],
   "source": [
    "df.shape"
   ]
  },
  {
   "cell_type": "markdown",
   "id": "06d725c6",
   "metadata": {},
   "source": [
    "## Simple Preprocessing\n",
    "\n",
    "Use Gensims simple_preprocess method in utils to preprocess the dataset, which includes converting all words to lower case, removing punctuations, trimming spaces, also remove stop words like 'and','or' etc."
   ]
  },
  {
   "cell_type": "code",
   "execution_count": 6,
   "id": "193449f4",
   "metadata": {},
   "outputs": [
    {
     "data": {
      "text/plain": [
       "0         [this, came, in, on, time, and, am, veru, happ...\n",
       "1         [had, factory, glock, tool, that, was, using, ...\n",
       "2         [if, you, don, have, punch, or, would, like, t...\n",
       "3         [this, works, no, better, than, any, punch, yo...\n",
       "4         [purchased, this, thinking, maybe, need, speci...\n",
       "                                ...                        \n",
       "296332    [this, is, water, bottle, done, right, it, is,...\n",
       "296333    [if, you, re, looking, for, an, insulated, wat...\n",
       "296334    [this, hydracentials, sporty, oz, double, insu...\n",
       "296335    [as, usual, received, this, item, free, in, ex...\n",
       "296336    [hydracentials, insulated, oz, water, bottle, ...\n",
       "Name: reviewText, Length: 296337, dtype: object"
      ]
     },
     "execution_count": 6,
     "metadata": {},
     "output_type": "execute_result"
    }
   ],
   "source": [
    "review_text=df.reviewText.apply(gensim.utils.simple_preprocess)\n",
    "review_text"
   ]
  },
  {
   "cell_type": "code",
   "execution_count": 9,
   "id": "370be70d",
   "metadata": {},
   "outputs": [
    {
     "data": {
      "text/plain": [
       "'This came in on time and I am veru happy with it, I haved used it already and it makes taking out the pins in my glock 32 very easy'"
      ]
     },
     "execution_count": 9,
     "metadata": {},
     "output_type": "execute_result"
    }
   ],
   "source": [
    "df.reviewText.loc[0]"
   ]
  },
  {
   "cell_type": "markdown",
   "id": "97d54e8b",
   "metadata": {},
   "source": [
    "## Training the model\n",
    "Use a window of size 10, workers of 4 which defines how many CPU threads to be used"
   ]
  },
  {
   "cell_type": "code",
   "execution_count": 10,
   "id": "7e9a5d08",
   "metadata": {},
   "outputs": [],
   "source": [
    "model=gensim.models.Word2Vec(\n",
    "    window=10,  # Size of the context window\n",
    "    min_count=2,  # Minimum word frequency to consider\n",
    "    workers=4,  # Number of worker threads to train the model\n",
    ")"
   ]
  },
  {
   "cell_type": "code",
   "execution_count": 11,
   "id": "e571900e",
   "metadata": {},
   "outputs": [],
   "source": [
    "model.build_vocab(review_text,progress_per=1000)"
   ]
  },
  {
   "cell_type": "code",
   "execution_count": 12,
   "id": "9cf388c3",
   "metadata": {},
   "outputs": [
    {
     "data": {
      "text/plain": [
       "(91341382, 121496535)"
      ]
     },
     "execution_count": 12,
     "metadata": {},
     "output_type": "execute_result"
    }
   ],
   "source": [
    "model.train(review_text,total_examples=model.corpus_count,epochs=model.epochs)"
   ]
  },
  {
   "cell_type": "code",
   "execution_count": 13,
   "id": "10bfc9ba",
   "metadata": {},
   "outputs": [
    {
     "data": {
      "text/plain": [
       "[('terrible', 0.6990038156509399),\n",
       " ('horrible', 0.6618235111236572),\n",
       " ('overpowering', 0.6190665364265442),\n",
       " ('ugly', 0.6158244609832764),\n",
       " ('horrendous', 0.6052393317222595),\n",
       " ('unpleasant', 0.5990537405014038),\n",
       " ('authentic', 0.5955678820610046),\n",
       " ('funny', 0.584703803062439),\n",
       " ('anomaly', 0.5706218481063843),\n",
       " ('icky', 0.5643571615219116)]"
      ]
     },
     "execution_count": 13,
     "metadata": {},
     "output_type": "execute_result"
    }
   ],
   "source": [
    "model.wv.most_similar(\"awful\")"
   ]
  },
  {
   "cell_type": "code",
   "execution_count": 14,
   "id": "4f290b86",
   "metadata": {},
   "outputs": [
    {
     "data": {
      "text/plain": [
       "0.77878237"
      ]
     },
     "execution_count": 14,
     "metadata": {},
     "output_type": "execute_result"
    }
   ],
   "source": [
    "model.wv.similarity(\"good\",\"great\")"
   ]
  },
  {
   "cell_type": "code",
   "execution_count": 15,
   "id": "568e1054",
   "metadata": {},
   "outputs": [
    {
     "data": {
      "text/plain": [
       "0.33882117"
      ]
     },
     "execution_count": 15,
     "metadata": {},
     "output_type": "execute_result"
    }
   ],
   "source": [
    "model.wv.similarity(\"slow\",\"steady\")"
   ]
  }
 ],
 "metadata": {
  "kernelspec": {
   "display_name": "Python 3",
   "language": "python",
   "name": "python3"
  },
  "language_info": {
   "codemirror_mode": {
    "name": "ipython",
    "version": 3
   },
   "file_extension": ".py",
   "mimetype": "text/x-python",
   "name": "python",
   "nbconvert_exporter": "python",
   "pygments_lexer": "ipython3",
   "version": "3.12.4"
  }
 },
 "nbformat": 4,
 "nbformat_minor": 5
}
